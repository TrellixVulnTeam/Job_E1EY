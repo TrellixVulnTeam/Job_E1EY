{
 "cells": [
  {
   "cell_type": "code",
   "execution_count": null,
   "metadata": {},
   "outputs": [],
   "source": [
    "#类的使用\n",
    "#和静态语言不同，Python允许对实例变量绑定任何数据，\n",
    "#实例可以随时创造新的成员变量\n",
    "class Student(object): #创建一个类\n",
    "    count = 0 #类属性 \n",
    "    #在内部和外部都采用类名.属性名访问\n",
    "    #类属性为所有变量共用 因此可以用做计数器来使用\n",
    "    def __init__(self,name,score): \n",
    "    #类的自定义构造函数\n",
    "    #注意到__init__方法的第一个参数永远是self，表示创建的实例本身，\n",
    "    # 因此，在__init__方法内部，就可以把各种属性绑定到self，因为self就指向创建的实例本身。\n",
    "        self.name = name\n",
    "        self.score = score\n",
    "        self.__age = 15;#通过添加__创建private变量\n",
    "\n",
    "    def printInfo(self):  #类的第一个参数永远是self\n",
    "        print(self.name)\n",
    "        print(self.score)\n",
    "    def printGender(self):\n",
    "        print('no gender')\n",
    "    @staticmethod  #静态方法\n",
    "    def returnInfo():\n",
    "        print('静态方法')\n",
    "\n",
    "class man(Student):#继承父类 Student\n",
    "    pass #继承全部方法\n",
    "class woman(Student):#继承父类 Student\n",
    "    def printGender(self):#覆盖方法\n",
    "        print('i\\'m woman')\n",
    "        \n",
    "def main():\n",
    "    ming = Student('xiaoming',55) #对象的初始化\n",
    "    ming.printInfo()\n",
    "    ming.age = 10\n",
    "    print(ming.age) #随时绑定新的数据\n",
    "    a_man = man('man',1)\n",
    "    a_woman = woman('woman',2)\n",
    "    a_man.printGender()#调用父类 \n",
    "    a_woman.printGender()#使用自己的方法\n",
    "    woman.returnInfo()\n",
    "main()"
   ]
  },
  {
   "cell_type": "markdown",
   "metadata": {},
   "source": [
    "# 属性绑定"
   ]
  },
  {
   "cell_type": "code",
   "execution_count": null,
   "metadata": {},
   "outputs": [],
   "source": [
    "from types import MethodType\n",
    "\n",
    "class Student():\n",
    "    def __init__(self,_score,_age):\n",
    "        self.score = _score\n",
    "        self.age = _age\n",
    "    \n",
    "def setAge(self,_age):\n",
    "    self.age = _age\n",
    "    print(\"调用\")\n",
    "\n",
    "s1 = Student(21,20) \n",
    "s1.setAge = MethodType(setAge,s1) #给实例绑定方法\n",
    "s1.setAge(25)\n",
    "Student.setAge = MethodType(setAge,Student)#给类绑定方法\n",
    "s2 = Student(15,16)\n",
    "s2.setAge(17)\n",
    "print(s1.age)\n",
    "print(s2.age) "
   ]
  }
 ],
 "metadata": {
  "language_info": {
   "codemirror_mode": {
    "name": "ipython",
    "version": 3
   },
   "file_extension": ".py",
   "mimetype": "text/x-python",
   "name": "python",
   "nbconvert_exporter": "python",
   "pygments_lexer": "ipython3",
   "version": 3
  },
  "orig_nbformat": 2
 },
 "nbformat": 4,
 "nbformat_minor": 2
}