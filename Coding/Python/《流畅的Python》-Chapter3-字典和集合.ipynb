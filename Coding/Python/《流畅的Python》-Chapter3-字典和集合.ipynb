{
 "metadata": {
  "language_info": {
   "codemirror_mode": {
    "name": "ipython",
    "version": 3
   },
   "file_extension": ".py",
   "mimetype": "text/x-python",
   "name": "python",
   "nbconvert_exporter": "python",
   "pygments_lexer": "ipython3",
   "version": "3.7.6-final"
  },
  "orig_nbformat": 2,
  "kernelspec": {
   "name": "python_defaultSpec_1599032312632",
   "display_name": "Python 3.7.6 64-bit ('base': conda)"
  }
 },
 "nbformat": 4,
 "nbformat_minor": 2,
 "cells": [
  {
   "cell_type": "markdown",
   "metadata": {},
   "source": [
    "# 字典推导"
   ]
  },
  {
   "cell_type": "code",
   "execution_count": 2,
   "metadata": {
    "tags": []
   },
   "outputs": [
    {
     "output_type": "stream",
     "name": "stdout",
     "text": "{'china': 86, 'india': 91, 'us': 1, 'indonesia': 62, 'brazil': 55, 'pakistan': 92, 'bangladesh': 880, 'Nigeria': 234, 'Russia': 7, 'Japan': 81}\n"
    }
   ],
   "source": [
    "dia_code = [\n",
    "    (86,'china'),\n",
    "    (91,'india'),\n",
    "    (1,'us'),\n",
    "    (62,'indonesia'),\n",
    "    (55,'brazil'),\n",
    "    (92,'pakistan'),\n",
    "    (880,'bangladesh'),\n",
    "    (234, 'Nigeria'),\n",
    "    (7, 'Russia'),\n",
    "    (81, 'Japan')\n",
    "]\n",
    "\n",
    "country_code= {country:code for code,country in dia_code}\n",
    "print(country_code)"
   ]
  },
  {
   "cell_type": "code",
   "execution_count": 3,
   "metadata": {
    "tags": []
   },
   "outputs": [
    {
     "output_type": "stream",
     "name": "stdout",
     "text": "{'÷', '#', '¤', 'µ', '¥', '×', '°', '£', '<', '®', '¢', '+', '±', '¬', '©', '§', '%', '=', '>', '¶', '$'}\n"
    }
   ],
   "source": [
    "from unicodedata import name\n",
    "s = { chr(i) for i in range(32, 256) if 'SIGN' in name(chr(i),'') }\n",
    "print(s)"
   ]
  },
  {
   "cell_type": "code",
   "execution_count": null,
   "metadata": {},
   "outputs": [],
   "source": []
  }
 ]
}