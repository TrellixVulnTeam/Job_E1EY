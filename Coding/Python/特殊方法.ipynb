{
 "cells": [
  {
   "cell_type": "markdown",
   "metadata": {},
   "source": [
    "# Python中的特殊方法(魔术方法)"
   ]
  },
  {
   "cell_type": "markdown",
   "metadata": {},
   "source": [
    "## \\_\\_init\\_\\_(self) \n",
    "- Python中类的构造方法:也就是用于为类初始化变量赋值,通常自带self参数，指明本类."
   ]
  },
  {
   "cell_type": "code",
   "execution_count": null,
   "metadata": {
    "tags": []
   },
   "outputs": [],
   "source": [
    "class Person():\n",
    "    def __init__(self,name):\n",
    "        self.name = name\n",
    "p = Person('judd')\n",
    "print(p.name)"
   ]
  },
  {
   "cell_type": "markdown",
   "metadata": {},
   "source": [
    "## \\_\\_call\\_\\_() \n",
    "- 在Python中，创建类的时候定义了__call__()方法，这个类的实例就是可以直接调用的这个方法。"
   ]
  },
  {
   "cell_type": "code",
   "execution_count": 7,
   "metadata": {
    "tags": []
   },
   "outputs": [
    {
     "name": "stdout",
     "output_type": "stream",
     "text": [
      "hello world 3\n"
     ]
    }
   ],
   "source": [
    "class Person():\n",
    "    def __init__(self,name):\n",
    "        self.name = name\n",
    "    def __call__(self,num):#num为可选参数\n",
    "        print('hello world',num)\n",
    "p = Person('judd')\n",
    "p(3)"
   ]
  },
  {
   "cell_type": "markdown",
   "metadata": {},
   "source": [
    "## \\_\\_len\\_\\_()  \n",
    "- 当你对一个类使用len(object) Python的解释器则会自动的调用你写的 _\\_len()__"
   ]
  },
  {
   "cell_type": "code",
   "execution_count": 11,
   "metadata": {
    "tags": []
   },
   "outputs": [
    {
     "name": "stdout",
     "output_type": "stream",
     "text": [
      "4\n"
     ]
    }
   ],
   "source": [
    "class Person():\n",
    "    def __init__(self,name):\n",
    "        self.name = name\n",
    "    def __call__(self,num):#num为可选参数\n",
    "        print('hello world',num)\n",
    "    def __len__(self): #TypeError: object of type 'Person' has no len() 不实现这个函数的话 则有如上报错信息\n",
    "        return len(self.name)\n",
    "p = Person('judd')\n",
    "print(len(p))"
   ]
  },
  {
   "cell_type": "markdown",
   "metadata": {},
   "source": [
    "##  \\_\\_getitem\\_\\_()等等，当你对你定义的数据类型进行索引的时候，如object\\[key]的，Python则会调用你写的这个方法."
   ]
  },
  {
   "cell_type": "code",
   "execution_count": 12,
   "metadata": {
    "tags": []
   },
   "outputs": [
    {
     "name": "stdout",
     "output_type": "stream",
     "text": [
      "u\n"
     ]
    }
   ],
   "source": [
    "class Person():\n",
    "    def __init__(self,name):\n",
    "        self.name = name\n",
    "    def __call__(self,num):#num为可选参数\n",
    "        print('hello world',num)\n",
    "    def __len__(self): #TypeError: object of type 'Person' has no len() 不实现这个函数的话 则有如上报错信息\n",
    "        return len(self.name)\n",
    "    def __getitem__(self,pos):\n",
    "        return self.name[pos]\n",
    "p = Person('judd')\n",
    "print(p[1])"
   ]
  },
  {
   "cell_type": "markdown",
   "metadata": {},
   "source": [
    "## 还有其他的很多大量的特殊方法，在这里不在赘述，只做一个简单的总结。"
   ]
  },
  {
   "cell_type": "code",
   "execution_count": null,
   "metadata": {},
   "outputs": [],
   "source": [
    "    # __str__（）这个特殊方法会在尝试将对象转换为字符串的时候调用\n",
    "    # 它的作用可以用来指定对象转换为字符串的结果  （print函数）  \n",
    "    def __str__(self):\n",
    "        return 'Person [name=%s , age=%d]'%(self.name,self.age)        \n",
    "    # __repr__()这个特殊方法会在对当前对象使用repr()函数时调用\n",
    "    # 它的作用是指定对象在 ‘交互模式’中直接输出的效果    \n",
    "    def __repr__(self):\n",
    "        ...\n",
    "    # object.__add__(self, other)\n",
    "    # object.__sub__(self, other)\n",
    "    # object.__mul__(self, other)\n",
    "    # object.__matmul__(self, other)\n",
    "    # object.__truediv__(self, other)\n",
    "    # object.__floordiv__(self, other)\n",
    "    # object.__mod__(self, other)\n",
    "    # object.__divmod__(self, other)\n",
    "    # object.__pow__(self, other[, modulo])\n",
    "    # object.__lshift__(self, other)\n",
    "    # object.__rshift__(self, other)\n",
    "    # object.__and__(self, other)\n",
    "    # object.__xor__(self, other)\n",
    "    # object.__or__(self, other)\n",
    "    # object.__lt__(self, other) 小于 <\n",
    "    # object.__le__(self, other) 小于等于 <=\n",
    "    # object.__eq__(self, other) 等于 ==\n",
    "    # object.__ne__(self, other) 不等于 !=\n",
    "    # object.__gt__(self, other) 大于 >\n",
    "    # object.__ge__(self, other) 大于等于 >= "
   ]
  },
  {
   "cell_type": "markdown",
   "metadata": {},
   "source": [
    "## 不要自己想当然地随意添加特殊方法，比如 __foo__ 之类的，因为虽然现在这个名字没有被 Python 内部使用，以后就不一定了"
   ]
  }
 ],
 "metadata": {
  "kernelspec": {
   "display_name": "Python 3",
   "language": "python",
   "name": "python3"
  },
  "language_info": {
   "codemirror_mode": {
    "name": "ipython",
    "version": 3
   },
   "file_extension": ".py",
   "mimetype": "text/x-python",
   "name": "python",
   "nbconvert_exporter": "python",
   "pygments_lexer": "ipython3",
   "version": "3.7.6"
  }
 },
 "nbformat": 4,
 "nbformat_minor": 2
}
