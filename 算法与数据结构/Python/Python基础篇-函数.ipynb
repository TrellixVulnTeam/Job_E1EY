{
 "cells": [
  {
   "cell_type": "code",
   "execution_count": null,
   "metadata": {},
   "outputs": [],
   "source": [
    "c = add(10,5)\n",
    "print(c)\n",
    "\n",
    "#返回多个参数 tuple\n",
    "s = divde(45)\n",
    "print(s)\n",
    "module.hello()\n",
    "#关于函数参数 \n",
    "#默认参数 同C++ \n",
    "#定义默认参数要牢记一点：默认参数必须指向不变对象！\n",
    "#可变参数 *\n",
    "#递归参数\n",
    "\n",
    "#闭包\n",
    "def add(x,y):\n",
    "    def selfSum():\n",
    "        return x+y\n",
    "    return selfSum\n",
    "f = add(5,10)\n",
    "print(f())\n",
    "#匿名函数\n",
    "#偏函数\n",
    "int2 = functools.partial(int,base = 2)\n",
    "c = int2('10010')\n",
    "print(c)"
   ]
  },
  {
   "cell_type": "markdown",
   "metadata": {},
   "source": []
  },
  {
   "cell_type": "code",
   "execution_count": null,
   "metadata": {},
   "outputs": [],
   "source": []
  }
 ],
 "metadata": {
  "language_info": {
   "codemirror_mode": {
    "name": "ipython",
    "version": 3
   },
   "file_extension": ".py",
   "mimetype": "text/x-python",
   "name": "python",
   "nbconvert_exporter": "python",
   "pygments_lexer": "ipython3",
   "version": "3.7.4-final"
  },
  "orig_nbformat": 2,
  "kernelspec": {
   "name": "python3",
   "display_name": "Python 3"
  }
 },
 "nbformat": 4,
 "nbformat_minor": 2
}