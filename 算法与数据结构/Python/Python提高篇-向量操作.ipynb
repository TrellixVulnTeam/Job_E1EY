{
 "cells": [
  {
   "cell_type": "markdown",
   "metadata": {},
   "source": [
    "### lamda map filter reduce"
   ]
  },
  {
   "cell_type": "markdown",
   "metadata": {},
   "source": [
    "1. lamda"
   ]
  },
  {
   "cell_type": "code",
   "execution_count": 1,
   "metadata": {},
   "outputs": [
    {
     "name": "stdout",
     "output_type": "stream",
     "text": [
      "True\n",
      "True\n",
      "True\n",
      "True\n",
      "True\n",
      "True\n",
      "True\n",
      "True\n",
      "True\n",
      "True\n"
     ]
    }
   ],
   "source": [
    "def square_fn(x):\n",
    "    return x*x\n",
    "square_lamda = lambda x:x*x\n",
    "\n",
    "for i in range(10):\n",
    "    print(square_fn(i)==square_lamda(i))"
   ]
  },
  {
   "cell_type": "markdown",
   "metadata": {},
   "source": [
    "2. map"
   ]
  },
  {
   "cell_type": "code",
   "execution_count": 5,
   "metadata": {},
   "outputs": [
    {
     "name": "stdout",
     "output_type": "stream",
     "text": [
      "[0.1111111111111111, 2263.0408163265306, 1.0851472983570953, 1.384083044982699, 0.4444444444444444]\n",
      "[0.1111111111111111, 2263.0408163265306, 1.0851472983570953, 1.384083044982699, 0.4444444444444444]\n",
      "0.35089172119045514 0.35089172119045514\n"
     ]
    }
   ],
   "source": [
    "#usual\n",
    "nums = [1/3, 333/7, 2323/2230, 40/34, 2/3]\n",
    "nums_squared = [num * num for num in nums]\n",
    "print(nums_squared)\n",
    "#map\n",
    "nums_squared_1 = map(square_fn, nums)\n",
    "nums_squared_2 = map(square_lamda, nums)\n",
    "print(list(nums_squared_1))\n",
    "\n",
    "a, b = 3, -0.5\n",
    "xs = [2, 3, 4, 5]\n",
    "labels = [6.4, 8.9, 10.9, 15.3]\n",
    "\n",
    "# Method 1: using a loop\n",
    "errors = []\n",
    "for i, x in enumerate(xs):\n",
    "    errors.append((a * x + b - labels[i]) ** 2)\n",
    "result1 = sum(errors) ** 0.5 / len(xs)\n",
    "\n",
    "# Method 2: using map\n",
    "diffs = map(lambda x, y: (a * x + b - y) ** 2, xs, labels)\n",
    "result2 = sum(diffs) ** 0.5 / len(xs)\n",
    "\n",
    "print(result1, result2)"
   ]
  },
  {
   "cell_type": "markdown",
   "metadata": {},
   "source": [
    "Note that objects returned by map and filter are iterators, which means that their values aren't stored but generated as needed. After you've called sum(diffs), diffs becomes empty. If you want to keep all elements in diffs, convert it to a list using list(diffs)."
   ]
  },
  {
   "cell_type": "markdown",
   "metadata": {},
   "source": [
    "3. filter\n",
    "filter(fn, iterable) works the same way as map, except that fn returns a boolean value and filter returns all the elements of the iterable for which the fn returns True."
   ]
  },
  {
   "cell_type": "code",
   "execution_count": 6,
   "metadata": {},
   "outputs": [
    {
     "name": "stdout",
     "output_type": "stream",
     "text": [
      "[0.8100000000000006, 0.6400000000000011]\n"
     ]
    }
   ],
   "source": [
    "bad_preds = filter(lambda x: x > 0.5, errors)\n",
    "print(list(bad_preds))"
   ]
  },
  {
   "cell_type": "markdown",
   "metadata": {},
   "source": [
    "4. reduce\n",
    "reduce(fn, iterable, initializer) is used when we want to iteratively apply an operator to all elements in a list. For example, if we want to calculate the product of all elements in a list:"
   ]
  },
  {
   "cell_type": "code",
   "execution_count": 7,
   "metadata": {},
   "outputs": [
    {
     "name": "stdout",
     "output_type": "stream",
     "text": [
      "12.95564683272412\n",
      "12.95564683272412\n"
     ]
    }
   ],
   "source": [
    "product = 1\n",
    "for num in nums:\n",
    "    product *= num\n",
    "print(product)\n",
    "\n",
    "from functools import reduce\n",
    "product = reduce(lambda x, y: x * y, nums)\n",
    "print(product)"
   ]
  },
  {
   "cell_type": "code",
   "execution_count": 1,
   "metadata": {
    "tags": []
   },
   "outputs": [
    {
     "output_type": "stream",
     "name": "stdout",
     "text": "[3, 7, 11, 15, 19]\n1357\n"
    }
   ],
   "source": [
    "#map实现\n",
    "def add_1(x,y):\n",
    "    return x+y\n",
    "\n",
    "l = [1,3,5,7,9]\n",
    "r = [2,4,6,8,10]\n",
    "res = map(add_1,l,r)\n",
    "print(list(res))\n",
    "\n",
    "#reduce实现\n",
    "from functools import reduce\n",
    "def add_2(x,y):\n",
    "    return x*10+y\n",
    "res1 = reduce(add_2,[1,3,5,7])\n",
    "print(int(res1))"
   ]
  },
  {
   "cell_type": "code",
   "execution_count": null,
   "metadata": {},
   "outputs": [],
   "source": []
  }
 ],
 "metadata": {
  "kernelspec": {
   "display_name": "Python 3",
   "language": "python",
   "name": "python3"
  },
  "language_info": {
   "codemirror_mode": {
    "name": "ipython",
    "version": 3
   },
   "file_extension": ".py",
   "mimetype": "text/x-python",
   "name": "python",
   "nbconvert_exporter": "python",
   "pygments_lexer": "ipython3",
   "version": "3.7.4-final"
  }
 },
 "nbformat": 4,
 "nbformat_minor": 2
}